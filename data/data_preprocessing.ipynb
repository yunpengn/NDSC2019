{
 "cells": [
  {
   "cell_type": "code",
   "execution_count": null,
   "metadata": {},
   "outputs": [],
   "source": [
    "import pandas as pd\n",
    "import csv\n",
    "import os"
   ]
  },
  {
   "cell_type": "code",
   "execution_count": null,
   "metadata": {},
   "outputs": [],
   "source": [
    "with open('actual_train.csv') as csv_file:\n",
    "    df = pd.read_csv(csv_file)\n",
    "if(os.path.isdir('./image training set') == False):\n",
    "    os.mkdir('./image training set')\n",
    "if(os.path.isdir('./title training set') == False): \n",
    "    os.mkdir('./title training set')"
   ]
  },
  {
   "cell_type": "code",
   "execution_count": null,
   "metadata": {},
   "outputs": [],
   "source": [
    "## create category folders\n",
    "num_row = df.shape[0]\n",
    "for k in range(58):\n",
    "    if(os.path.isdir('./image training set/' + str(k)) == False):\n",
    "        os.mkdir('./image training set/' + str(k))\n",
    "        os.mkdir('./title training set/' + str(k))\n",
    "num_row"
   ]
  },
  {
   "cell_type": "code",
   "execution_count": null,
   "metadata": {},
   "outputs": [],
   "source": [
    "image_list = [list() for f in range(58)]\n",
    "title_list = [list() for f in range(58)]"
   ]
  },
  {
   "cell_type": "code",
   "execution_count": null,
   "metadata": {},
   "outputs": [],
   "source": [
    "for i in range(num_row):\n",
    "    category = df['Category'][i]\n",
    "    image = (df['image_path'][i].split('/'))[1]\n",
    "    title = df['title'][i]\n",
    "    image_list[category].append(image)\n",
    "    title_list[category].append(title)"
   ]
  },
  {
   "cell_type": "code",
   "execution_count": null,
   "metadata": {},
   "outputs": [],
   "source": [
    "# titles are divided into subfolders\n",
    "for i in range(58):\n",
    "    #with open('./image training set/' + str(i) + '/imageLink_' + str(i) + '.csv', 'w') as myfile1:\n",
    "    #    wr = csv.writer(myfile1, quoting=csv.QUOTE_ALL)\n",
    "    #    wr.writerow(image_list[i])\n",
    "    if(os.path.isfile('./title training set/' + str(i) + '/title_' + str(i) + '.csv') == False):\n",
    "        with open('./title training set/' + str(i) + '/title_' + str(i) + '.csv', 'w') as myfile2:\n",
    "            wr = csv.writer(myfile2, quoting=csv.QUOTE_ALL)\n",
    "            wr.writerow(title_list[i])"
   ]
  },
  {
   "cell_type": "code",
   "execution_count": null,
   "metadata": {},
   "outputs": [],
   "source": [
    "# images are moved into subfolders\n",
    "source ='./train_images/'\n",
    "dest = './image training set/'\n",
    "for i in range(58):\n",
    "    image_cat = image_list[i]\n",
    "    for j in range(len(image_cat)):\n",
    "        imagename = image_cat[j]\n",
    "        if(os.path.exists(source + imagename)):\n",
    "            os.rename(source + imagename, dest + str(i) + '/' + imagename)"
   ]
  },
  {
   "cell_type": "code",
   "execution_count": null,
   "metadata": {},
   "outputs": [],
   "source": []
  }
 ],
 "metadata": {
  "kernelspec": {
   "display_name": "Python 3",
   "language": "python",
   "name": "python3"
  },
  "language_info": {
   "codemirror_mode": {
    "name": "ipython",
    "version": 3
   },
   "file_extension": ".py",
   "mimetype": "text/x-python",
   "name": "python",
   "nbconvert_exporter": "python",
   "pygments_lexer": "ipython3",
   "version": "3.7.1"
  }
 },
 "nbformat": 4,
 "nbformat_minor": 2
}
